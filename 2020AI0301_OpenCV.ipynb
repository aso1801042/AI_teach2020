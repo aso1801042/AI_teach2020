{
  "nbformat": 4,
  "nbformat_minor": 0,
  "metadata": {
    "colab": {
      "name": "2020AI0301-OpenCV.ipynb",
      "provenance": [],
      "authorship_tag": "ABX9TyNjwJvhsXaTXjStY5pBNHnM",
      "include_colab_link": true
    },
    "kernelspec": {
      "name": "python3",
      "display_name": "Python 3"
    }
  },
  "cells": [
    {
      "cell_type": "markdown",
      "metadata": {
        "id": "view-in-github",
        "colab_type": "text"
      },
      "source": [
        "<a href=\"https://colab.research.google.com/github/aso1801042/AI_teach2020/blob/master/2020AI0301_OpenCV.ipynb\" target=\"_parent\"><img src=\"https://colab.research.google.com/assets/colab-badge.svg\" alt=\"Open In Colab\"/></a>"
      ]
    },
    {
      "cell_type": "markdown",
      "metadata": {
        "id": "0UFRWkWw8Tkd"
      },
      "source": [
        "###openCVで画像を操作する\n"
      ]
    },
    {
      "cell_type": "code",
      "metadata": {
        "id": "Yt3xWnw_8LpI",
        "outputId": "faf012b3-89c6-49af-f58c-50effb7f3479",
        "colab": {
          "base_uri": "https://localhost:8080/",
          "height": 134
        }
      },
      "source": [
        "#画像をネットからダウンロード\n",
        "import urllib.request as req\n",
        "url = \"https://raw.githubusercontent.com/masatokg/book-mlearn-gyomu/master/src/ch3/cv2io/test.jpg\"\n",
        "savefile =　\"test.png\"\n",
        "req.urlretrieve(url,savefile)\n",
        "\n",
        "#保存したファイルをopenCVで読み込む\n",
        "import cv2\n",
        "img = cv2.imread(savefile)\n",
        "#画像データ(ピクセル情報)を表示する\n",
        "print(img)"
      ],
      "execution_count": null,
      "outputs": [
        {
          "output_type": "error",
          "ename": "SyntaxError",
          "evalue": "ignored",
          "traceback": [
            "\u001b[0;36m  File \u001b[0;32m\"<ipython-input-6-053b10e8ec88>\"\u001b[0;36m, line \u001b[0;32m4\u001b[0m\n\u001b[0;31m    savefile =　\"test.png\"\u001b[0m\n\u001b[0m              ^\u001b[0m\n\u001b[0;31mSyntaxError\u001b[0m\u001b[0;31m:\u001b[0m invalid character in identifier\n"
          ]
        }
      ]
    },
    {
      "cell_type": "markdown",
      "metadata": {
        "id": "r9bB5qBk_2JJ"
      },
      "source": [
        "### わざと間違えてimreadの戻り値をみる"
      ]
    },
    {
      "cell_type": "code",
      "metadata": {
        "id": "ab_LUWhj849w",
        "outputId": "dc02fc9c-3e9a-4297-e7bd-b4b06604035f",
        "colab": {
          "base_uri": "https://localhost:8080/"
        }
      },
      "source": [
        "#存在しないファイルパスを指定して読み込み命令をすると、戻り値はNoneになる\n",
        "ng_img = cv2.imread(\"存在しないファイル\")\n",
        "print(ng_img)"
      ],
      "execution_count": null,
      "outputs": [
        {
          "output_type": "stream",
          "text": [
            "None\n"
          ],
          "name": "stdout"
        }
      ]
    },
    {
      "cell_type": "markdown",
      "metadata": {
        "id": "vMpAw0u6AWoZ"
      },
      "source": [
        "### 読み込んだ画像データ(ピクセル情報）をインライン表示(notebook上に表示)"
      ]
    },
    {
      "cell_type": "code",
      "metadata": {
        "id": "GB2QcHxVAJDX",
        "outputId": "2d9debe4-9df5-4cda-ec0c-f8bed627c522",
        "colab": {
          "base_uri": "https://localhost:8080/",
          "height": 236
        }
      },
      "source": [
        "#matplotlibにインライン表示宣言をする\n",
        "%matplotlib inline\n",
        "import matplotlib.pyplot as plt\n",
        " #画像データのプロットを作る(ピクセル情報をそのまま)\n",
        "plt.imshow(img)\n",
        "#プロットを表示\n",
        "plt.show()\n",
        "#ピクセル情報を変換してプロットを作る(BGR -> RGB で指定)\n",
        "plt.imshow(cv2.cvtColor(img, cv2.COLOR_BGR2RGB))\n",
        "plt.show()"
      ],
      "execution_count": null,
      "outputs": [
        {
          "output_type": "error",
          "ename": "NameError",
          "evalue": "ignored",
          "traceback": [
            "\u001b[0;31m---------------------------------------------------------------------------\u001b[0m",
            "\u001b[0;31mNameError\u001b[0m                                 Traceback (most recent call last)",
            "\u001b[0;32m<ipython-input-8-a90b5aaa0258>\u001b[0m in \u001b[0;36m<module>\u001b[0;34m()\u001b[0m\n\u001b[1;32m      3\u001b[0m \u001b[0;32mimport\u001b[0m \u001b[0mmatplotlib\u001b[0m\u001b[0;34m.\u001b[0m\u001b[0mpyplot\u001b[0m \u001b[0;32mas\u001b[0m \u001b[0mplt\u001b[0m\u001b[0;34m\u001b[0m\u001b[0;34m\u001b[0m\u001b[0m\n\u001b[1;32m      4\u001b[0m  \u001b[0;31m#画像データのプロットを作る\u001b[0m\u001b[0;34m\u001b[0m\u001b[0;34m\u001b[0m\u001b[0;34m\u001b[0m\u001b[0m\n\u001b[0;32m----> 5\u001b[0;31m \u001b[0mplt\u001b[0m\u001b[0;34m.\u001b[0m\u001b[0mimshow\u001b[0m\u001b[0;34m(\u001b[0m\u001b[0mimg\u001b[0m\u001b[0;34m)\u001b[0m\u001b[0;34m\u001b[0m\u001b[0;34m\u001b[0m\u001b[0m\n\u001b[0m\u001b[1;32m      6\u001b[0m \u001b[0;31m#プロットを表示\u001b[0m\u001b[0;34m\u001b[0m\u001b[0;34m\u001b[0m\u001b[0;34m\u001b[0m\u001b[0m\n\u001b[1;32m      7\u001b[0m \u001b[0mplt\u001b[0m\u001b[0;34m.\u001b[0m\u001b[0mshow\u001b[0m\u001b[0;34m(\u001b[0m\u001b[0;34m)\u001b[0m\u001b[0;34m\u001b[0m\u001b[0;34m\u001b[0m\u001b[0m\n",
            "\u001b[0;31mNameError\u001b[0m: name 'img' is not defined"
          ]
        }
      ]
    },
    {
      "cell_type": "markdown",
      "metadata": {
        "id": "3W-EHjdICqxC"
      },
      "source": [
        "###画像を保存する"
      ]
    },
    {
      "cell_type": "code",
      "metadata": {
        "id": "gsKgh4gKBM9t",
        "outputId": "5a01dd88-ac59-4dca-8807-bf988657a979",
        "colab": {
          "base_uri": "https://localhost:8080/",
          "height": 202
        }
      },
      "source": [
        "#保存するファイル名\n",
        "out_png = \"out.png\"\n",
        "#openCVの画像保存メソッド\n",
        "cv2.imwrite(out_png, img)"
      ],
      "execution_count": null,
      "outputs": [
        {
          "output_type": "error",
          "ename": "NameError",
          "evalue": "ignored",
          "traceback": [
            "\u001b[0;31m---------------------------------------------------------------------------\u001b[0m",
            "\u001b[0;31mNameError\u001b[0m                                 Traceback (most recent call last)",
            "\u001b[0;32m<ipython-input-9-9549444a245e>\u001b[0m in \u001b[0;36m<module>\u001b[0;34m()\u001b[0m\n\u001b[1;32m      2\u001b[0m \u001b[0mout_png\u001b[0m \u001b[0;34m=\u001b[0m \u001b[0;34m\"out.png\"\u001b[0m\u001b[0;34m\u001b[0m\u001b[0;34m\u001b[0m\u001b[0m\n\u001b[1;32m      3\u001b[0m \u001b[0;31m#openCVの画像保存メソッド\u001b[0m\u001b[0;34m\u001b[0m\u001b[0;34m\u001b[0m\u001b[0;34m\u001b[0m\u001b[0m\n\u001b[0;32m----> 4\u001b[0;31m \u001b[0mcv2\u001b[0m\u001b[0;34m.\u001b[0m\u001b[0mimwrite\u001b[0m\u001b[0;34m(\u001b[0m\u001b[0mout_png\u001b[0m\u001b[0;34m,\u001b[0m \u001b[0mimg\u001b[0m\u001b[0;34m)\u001b[0m\u001b[0;34m\u001b[0m\u001b[0;34m\u001b[0m\u001b[0m\n\u001b[0m",
            "\u001b[0;31mNameError\u001b[0m: name 'img' is not defined"
          ]
        }
      ]
    },
    {
      "cell_type": "markdown",
      "metadata": {
        "id": "CJNveINqDmLQ"
      },
      "source": [
        "###メモリ軸をオフにしたプロットを作って表示"
      ]
    },
    {
      "cell_type": "code",
      "metadata": {
        "id": "yjlxJxp3DMuJ"
      },
      "source": [
        "#メモリ軸をオフにしたプロットを作る\n",
        "plt.axis(\"off\")\n",
        "plt.show(cv2.cvtColor(img, cv2.COLOR_BGR2RBG))\n",
        "#作ったプロットを表示\n",
        "plt.show()\n"
      ],
      "execution_count": null,
      "outputs": []
    },
    {
      "cell_type": "markdown",
      "metadata": {
        "id": "R8SAS5kvEngp"
      },
      "source": [
        "##画像をリサイズ(拡大・縮小)する\n"
      ]
    },
    {
      "cell_type": "code",
      "metadata": {
        "id": "H_VqFHYmEvtJ"
      },
      "source": [
        "#読み込んだ画像imgをリサイズ\n",
        "im2 = cv2.resize(img, ( 600,300))#横幅w 600, 縦幅h 300 にリサイズして代入\n",
        "#リサイズした画像をファイルに保存\n",
        "cv2.imwrite(\"out-resize.png\", im2)\n",
        "#画像のプロットを作って表示\n",
        "plt.imshow(cv2.cvtColor( im2, cv2.COLOR_BGR2RGB))\n",
        "plt.show()#表示"
      ],
      "execution_count": null,
      "outputs": []
    },
    {
      "cell_type": "markdown",
      "metadata": {
        "id": "7VtRyYZ6GJNW"
      },
      "source": [
        "###画像の切り取り(抽出)を行う\n",
        "#切り取りたい領域は,y座標、x座標を二次元配列の要領で指定する\n",
        "#[開始行：終端行, 開始列:終端列]"
      ]
    },
    {
      "cell_type": "code",
      "metadata": {
        "id": "xsceqrDYGP9y"
      },
      "source": [
        "#画像をリサイズ(抽出して新たな画像・変数に代入）\n",
        "im3 = img[150:450, 150:450]\n",
        "plt.imshow(cv2.cvtColor(im3, cv2.COLOR_BGR2RGB))\n"
      ],
      "execution_count": null,
      "outputs": []
    }
  ]
}