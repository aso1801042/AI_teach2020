{
  "nbformat": 4,
  "nbformat_minor": 0,
  "metadata": {
    "colab": {
      "name": "2020AI0202-lris.ipynb",
      "provenance": [],
      "authorship_tag": "ABX9TyP05atErrg2eE3XYc80vjYa",
      "include_colab_link": true
    },
    "kernelspec": {
      "name": "python3",
      "display_name": "Python 3"
    }
  },
  "cells": [
    {
      "cell_type": "markdown",
      "metadata": {
        "id": "view-in-github",
        "colab_type": "text"
      },
      "source": [
        "<a href=\"https://colab.research.google.com/github/aso1801042/AI_teach2020/blob/master/2020AI0202_lris.ipynb\" target=\"_parent\"><img src=\"https://colab.research.google.com/assets/colab-badge.svg\" alt=\"Open In Colab\"/></a>"
      ]
    },
    {
      "cell_type": "markdown",
      "metadata": {
        "id": "Q_RIoYr8Mvd7"
      },
      "source": [
        "###　URLオブジェクトを使ってファイルをリンクから保存"
      ]
    },
    {
      "cell_type": "code",
      "metadata": {
        "id": "qzhi5EVqNE7s"
      },
      "source": [
        "#urlライブラリのrequestクラスをreqという別名でimport\n",
        "import urllib.request as req\n",
        "# pandasライブラリをpdという別名でimport\n",
        "import pandas as pd"
      ],
      "execution_count": 51,
      "outputs": []
    },
    {
      "cell_type": "code",
      "metadata": {
        "id": "Vpd1vzskNN_K",
        "outputId": "b5cc81f1-cd0b-49fa-f6a9-80306024fa83",
        "colab": {
          "base_uri": "https://localhost:8080/",
          "height": 34
        }
      },
      "source": [
        "# urlという名前のオブジェクト変数を定義\n",
        "url = \"https://raw.githubusercontent.com/pandas-dev/pandas/master/pandas/tests/io/data/csv/iris.csv\"\n",
        "#リンクから保存するためのファイル名を定義\n",
        "savefile = \"iris.csv\"\n",
        "#requestクラスを使ってurlからデータをsavefileヘコピー\n",
        "req.urlretrieve(url,savefile)\n",
        "print(\"保存しました\")"
      ],
      "execution_count": 52,
      "outputs": [
        {
          "output_type": "stream",
          "text": [
            "保存しました\n"
          ],
          "name": "stdout"
        }
      ]
    },
    {
      "cell_type": "markdown",
      "metadata": {
        "id": "MN53x5jPQPmz"
      },
      "source": [
        "###保存したcsvファイルをメモリ情に読み込んで画面に表示させる"
      ]
    },
    {
      "cell_type": "code",
      "metadata": {
        "id": "rkZ9n_ZFP-I8"
      },
      "source": [
        "#padasのread_csvメソッドを使ってCSVファイルを読み込む\n",
        "iris_data = pd.read_csv(savefile,encoding=\"utf-8\")"
      ],
      "execution_count": 53,
      "outputs": []
    },
    {
      "cell_type": "markdown",
      "metadata": {
        "id": "rn31SCtJV4yq"
      },
      "source": [
        "### 機械学習のライブラリを読み込む"
      ]
    },
    {
      "cell_type": "code",
      "metadata": {
        "id": "geqVGlvTWC14"
      },
      "source": [
        "# 機械学習データを学習用テスト用に分けるためのクラス\n",
        "from sklearn.model_selection import train_test_split\n",
        "# サポートベクターマシン(SVM)のSVCアルゴリズムのクラス\n",
        "from sklearn.svm import SVC\n",
        "#テストの評価クラス\n",
        "from sklearn.metrics import accuracy_score"
      ],
      "execution_count": 54,
      "outputs": []
    },
    {
      "cell_type": "markdown",
      "metadata": {
        "id": "b4Jg8ZN0XOk-"
      },
      "source": [
        "### アヤメのCSVデータを正解(ラベル)と入力用データに分離する\n",
        "列を分ける"
      ]
    },
    {
      "cell_type": "code",
      "metadata": {
        "id": "vNGW8XwsXG1k",
        "outputId": "cc7c83f4-8ff9-405c-c3ea-da1f9ea6cb83",
        "colab": {
          "base_uri": "https://localhost:8080/",
          "height": 221
        }
      },
      "source": [
        "# pythonのリスト切り出しを使って表を縦に分割する\n",
        "# yに右側一列(\"Name\"の列)だけを切り取って代入\n",
        "y = iris_data.loc[:, \"Name\"]\n",
        "print(y)"
      ],
      "execution_count": 55,
      "outputs": [
        {
          "output_type": "stream",
          "text": [
            "0         Iris-setosa\n",
            "1         Iris-setosa\n",
            "2         Iris-setosa\n",
            "3         Iris-setosa\n",
            "4         Iris-setosa\n",
            "            ...      \n",
            "145    Iris-virginica\n",
            "146    Iris-virginica\n",
            "147    Iris-virginica\n",
            "148    Iris-virginica\n",
            "149    Iris-virginica\n",
            "Name: Name, Length: 150, dtype: object\n"
          ],
          "name": "stdout"
        }
      ]
    },
    {
      "cell_type": "code",
      "metadata": {
        "id": "qJOi_ugxYjlE",
        "outputId": "2eb9b01f-914a-40e5-8606-30263795a6d8",
        "colab": {
          "base_uri": "https://localhost:8080/",
          "height": 255
        }
      },
      "source": [
        "#xに左の４列のデータを切り取って代入\n",
        "x = iris_data.loc[:, [\"SepalLength\", \"SepalWidth\", \"PetalLength\", \"PetalWidth\"]]\n",
        "print(x)"
      ],
      "execution_count": 56,
      "outputs": [
        {
          "output_type": "stream",
          "text": [
            "     SepalLength  SepalWidth  PetalLength  PetalWidth\n",
            "0            5.1         3.5          1.4         0.2\n",
            "1            4.9         3.0          1.4         0.2\n",
            "2            4.7         3.2          1.3         0.2\n",
            "3            4.6         3.1          1.5         0.2\n",
            "4            5.0         3.6          1.4         0.2\n",
            "..           ...         ...          ...         ...\n",
            "145          6.7         3.0          5.2         2.3\n",
            "146          6.3         2.5          5.0         1.9\n",
            "147          6.5         3.0          5.2         2.0\n",
            "148          6.2         3.4          5.4         2.3\n",
            "149          5.9         3.0          5.1         1.8\n",
            "\n",
            "[150 rows x 4 columns]\n"
          ],
          "name": "stdout"
        }
      ]
    },
    {
      "cell_type": "markdown",
      "metadata": {
        "id": "rgY2-ZKZZgaN"
      },
      "source": [
        "### xデータも、yデータも学習用に使うデータと、テスト用に使うデータに分けておく"
      ]
    },
    {
      "cell_type": "code",
      "metadata": {
        "id": "mgKKUAbZZaMW"
      },
      "source": [
        "#train_test_splitを使って、xもyもtrainデータとtestデータにランダムに分ける(shuffle)\n",
        "#比率はtest = 0.2、　train = 0.8でx_train、x_test、y_testという変数に代入する\n",
        "x_train, x_test, y_train, y_test = train_test_split(x, y, test_size = 0.2, train_size = 0.8, shuffle = True)\n"
      ],
      "execution_count": 57,
      "outputs": []
    },
    {
      "cell_type": "markdown",
      "metadata": {
        "id": "0ZRpqOBpu42B"
      },
      "source": [
        "###　Xtrain(学習用入力データ),Ytrain(学習用正解データ)を使ってモデルを学習させる。"
      ]
    },
    {
      "cell_type": "code",
      "metadata": {
        "id": "3fCQoFjmbI80"
      },
      "source": [
        "#SVCアルゴリズムの学習モデルのインスタンスを生成\n",
        "clf = SVC()"
      ],
      "execution_count": 58,
      "outputs": []
    },
    {
      "cell_type": "code",
      "metadata": {
        "id": "5TPmPNknvQ7Y",
        "outputId": "baa779d1-84a8-44eb-93d1-ca47da136352",
        "colab": {
          "base_uri": "https://localhost:8080/",
          "height": 85
        }
      },
      "source": [
        "#SCVアルゴリズムの学習モデルに学習用の入力データと正解データを引き渡して学習させる\n",
        "clf.fit(x_train,y_train)"
      ],
      "execution_count": 59,
      "outputs": [
        {
          "output_type": "execute_result",
          "data": {
            "text/plain": [
              "SVC(C=1.0, break_ties=False, cache_size=200, class_weight=None, coef0=0.0,\n",
              "    decision_function_shape='ovr', degree=3, gamma='scale', kernel='rbf',\n",
              "    max_iter=-1, probability=False, random_state=None, shrinking=True,\n",
              "    tol=0.001, verbose=False)"
            ]
          },
          "metadata": {
            "tags": []
          },
          "execution_count": 59
        }
      ]
    },
    {
      "cell_type": "markdown",
      "metadata": {
        "id": "PW6RxOK-wT5y"
      },
      "source": [
        "### 学習がうまく行ったかを検証して評価する\n",
        "#x_testデータを使って指摘させた結果(x_pred)と本来の正解データ(y_test)と比較してどれくらいの割合正しているのかを評価する"
      ]
    },
    {
      "cell_type": "code",
      "metadata": {
        "id": "Obi79ks1vwDL",
        "outputId": "785811d9-97ed-463f-f37c-1e40f2441c43",
        "colab": {
          "base_uri": "https://localhost:8080/",
          "height": 34
        }
      },
      "source": [
        "# x_testデータを使って学習モデルclfに指摘させる(結果は変数predに代入)\n",
        "y_pred = clf.predict(x_test)\n",
        "# accuracy_scoreでy_predとy_testを比較する\n",
        "print(\"正解率 =\", accuracy_score(y_test,y_pred))"
      ],
      "execution_count": 60,
      "outputs": [
        {
          "output_type": "stream",
          "text": [
            "正解率 = 0.9666666666666667\n"
          ],
          "name": "stdout"
        }
      ]
    },
    {
      "cell_type": "code",
      "metadata": {
        "id": "Jj2w9lpZxea6"
      },
      "source": [
        ""
      ],
      "execution_count": 60,
      "outputs": []
    }
  ]
}