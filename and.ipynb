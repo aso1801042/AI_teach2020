{
  "nbformat": 4,
  "nbformat_minor": 0,
  "metadata": {
    "colab": {
      "name": "and.ipynb",
      "provenance": [],
      "collapsed_sections": [],
      "authorship_tag": "ABX9TyP3bYCDB3txEmfXbfHFj+ci",
      "include_colab_link": true
    },
    "kernelspec": {
      "name": "python3",
      "display_name": "Python 3"
    }
  },
  "cells": [
    {
      "cell_type": "markdown",
      "metadata": {
        "id": "view-in-github",
        "colab_type": "text"
      },
      "source": [
        "<a href=\"https://colab.research.google.com/github/aso1801042/AI_teach2020/blob/master/and.ipynb\" target=\"_parent\"><img src=\"https://colab.research.google.com/assets/colab-badge.svg\" alt=\"Open In Colab\"/></a>"
      ]
    },
    {
      "cell_type": "markdown",
      "metadata": {
        "id": "N8MRDqg3qWAE"
      },
      "source": [
        "###AND演算をモデルに学ばせる(LinearSVC)"
      ]
    },
    {
      "cell_type": "code",
      "metadata": {
        "id": "dr7XzY-1qlJp"
      },
      "source": [
        "#scikit-learnを使うため、インポートする\n",
        "from sklearn.svm import LinearSVC #線形SVCのオブジェクト\n",
        "from sklearn.metrics import accuracy_score#結果を評価するためのオブジェクト"
      ],
      "execution_count": 17,
      "outputs": []
    },
    {
      "cell_type": "markdown",
      "metadata": {
        "id": "JKy2JMsWrfFp"
      },
      "source": [
        "###学習のためのデータを用意する"
      ]
    },
    {
      "cell_type": "code",
      "metadata": {
        "id": "JtCCBbCrrtse"
      },
      "source": [
        "#入力値を表すデータ\n",
        "#入力X,入力Y\n",
        "learn_data = [ [0,0], [1,0], [0,1], [1,1] ]\n",
        "#(XとYのand) 結果\n",
        "learn_label =[0, 0, 0, 1]\n"
      ],
      "execution_count": 18,
      "outputs": []
    },
    {
      "cell_type": "markdown",
      "metadata": {
        "id": "W4-wUrH-s_Ij"
      },
      "source": [
        "###アルゴリズムのインスタンスを生成"
      ]
    },
    {
      "cell_type": "code",
      "metadata": {
        "id": "97Ul0AuEtDdq"
      },
      "source": [
        "#線形SVCのインスタンスを生成(=モデル)\n",
        "clf = LinearSVC()"
      ],
      "execution_count": 19,
      "outputs": []
    },
    {
      "cell_type": "markdown",
      "metadata": {
        "id": "A_XYb9QGtTSM"
      },
      "source": [
        "###モデルに学習させる(fitメソッド)"
      ]
    },
    {
      "cell_type": "code",
      "metadata": {
        "id": "pOHLwanJtdSL",
        "outputId": "497bc85a-341b-4e3a-a7d1-e0b4de4f36d6",
        "colab": {
          "base_uri": "https://localhost:8080/",
          "height": 85
        }
      },
      "source": [
        "clf.fit( learn_data, learn_label )"
      ],
      "execution_count": 20,
      "outputs": [
        {
          "output_type": "execute_result",
          "data": {
            "text/plain": [
              "LinearSVC(C=1.0, class_weight=None, dual=True, fit_intercept=True,\n",
              "          intercept_scaling=1, loss='squared_hinge', max_iter=1000,\n",
              "          multi_class='ovr', penalty='l2', random_state=None, tol=0.0001,\n",
              "          verbose=0)"
            ]
          },
          "metadata": {
            "tags": []
          },
          "execution_count": 20
        }
      ]
    },
    {
      "cell_type": "markdown",
      "metadata": {
        "id": "Nx65vrrfuRjy"
      },
      "source": [
        "###モデルがちゃんとで学習できたか、テストデータで、予測させてみる"
      ]
    },
    {
      "cell_type": "code",
      "metadata": {
        "id": "2l3LvD4DucP2",
        "outputId": "834aaca8-ebc7-4b90-9646-3888827df03f",
        "colab": {
          "base_uri": "https://localhost:8080/",
          "height": 68
        }
      },
      "source": [
        "#予測用のテストデータ(検証データ)を作る\n",
        "test_data = [ [0, 0], [1,0], [0,1], [1,1] ]\n",
        "#モデルにテストデータを回答させる(予測)\n",
        "test_label = clf.predict(test_data)\n",
        "print(test_label)\n",
        "#予測結果の評価\n",
        "print(test_data, \"の予測結果\", test_label)\n",
        "#結果の精度を表示させる\n",
        "print(\"正解率 =\", accuracy_score([0,0,0,1], test_label))"
      ],
      "execution_count": 21,
      "outputs": [
        {
          "output_type": "stream",
          "text": [
            "[0 0 0 1]\n",
            "[[0, 0], [1, 0], [0, 1], [1, 1]] の予測結果 [0 0 0 1]\n",
            "正解率 = 1.0\n"
          ],
          "name": "stdout"
        }
      ]
    },
    {
      "cell_type": "markdown",
      "metadata": {
        "id": "AK6WkdZDwW0F"
      },
      "source": [
        "###XOR演算を実装する\n"
      ]
    },
    {
      "cell_type": "code",
      "metadata": {
        "id": "wYgssGghx8Dh"
      },
      "source": [
        "#XOR演算を学習するためのデータを用意する\n",
        "#X,Yの順\n",
        "learn_data = [ [0,0], [1,0], [0,1], [1,1] ]\n",
        "#X xor Yの結果正解データ（学習ラベル）\n",
        "learn_label = [0,1,1,0]\n"
      ],
      "execution_count": 22,
      "outputs": []
    },
    {
      "cell_type": "code",
      "metadata": {
        "id": "FVUeo1NdxLW7",
        "outputId": "884a9dc9-de32-4339-a98e-875a6c7931f3",
        "colab": {
          "base_uri": "https://localhost:8080/",
          "height": 85
        }
      },
      "source": [
        "#学習モデルのインスタンスを作る(LinearSVC)\n",
        "clf = LinearSVC()\n",
        "#学習させる\n",
        "clf.fit(learn_data,learn_label)"
      ],
      "execution_count": 23,
      "outputs": [
        {
          "output_type": "execute_result",
          "data": {
            "text/plain": [
              "LinearSVC(C=1.0, class_weight=None, dual=True, fit_intercept=True,\n",
              "          intercept_scaling=1, loss='squared_hinge', max_iter=1000,\n",
              "          multi_class='ovr', penalty='l2', random_state=None, tol=0.0001,\n",
              "          verbose=0)"
            ]
          },
          "metadata": {
            "tags": []
          },
          "execution_count": 23
        }
      ]
    },
    {
      "cell_type": "code",
      "metadata": {
        "id": "eXSmeWm_xpz_"
      },
      "source": [
        "#学習モデルに推論させる\n",
        "test_data = [ [0,0], [1,0], [0,1], [1,1] ]\n",
        "test_label = clf.predict(test_data)"
      ],
      "execution_count": 24,
      "outputs": []
    },
    {
      "cell_type": "code",
      "metadata": {
        "id": "ojlJXgpIyL7W",
        "outputId": "ae12a55d-a7fa-4ba6-d9d1-f62c40b46c99",
        "colab": {
          "base_uri": "https://localhost:8080/",
          "height": 51
        }
      },
      "source": [
        "#結果を検証する\n",
        "print(test_data, \"の予測結果\", test_label)\n",
        "print(\"正解律 =\", accuracy_score([0, 1, 1, 0], test_label))"
      ],
      "execution_count": 25,
      "outputs": [
        {
          "output_type": "stream",
          "text": [
            "[[0, 0], [1, 0], [0, 1], [1, 1]] の予測結果 [1 1 1 1]\n",
            "正解律 = 0.5\n"
          ],
          "name": "stdout"
        }
      ]
    },
    {
      "cell_type": "markdown",
      "metadata": {
        "id": "M49jKysiZSPl"
      },
      "source": [
        "## K近傍法でXOR演算を実装する"
      ]
    },
    {
      "cell_type": "code",
      "metadata": {
        "id": "2RcrKt5WZkiz"
      },
      "source": [
        "#k近傍法のアルゴリズムのクラスをimport\n",
        "from sklearn.neighbors import KNeighborsClassifier\n"
      ],
      "execution_count": 26,
      "outputs": []
    },
    {
      "cell_type": "code",
      "metadata": {
        "id": "SC3JZbAaah8c"
      },
      "source": [
        "#　学習モデルの変数clfをk近傍法アルゴリズムのインスタンスで上書き\n",
        "clf = KNeighborsClassifier(n_neighbors=1)\n"
      ],
      "execution_count": 28,
      "outputs": []
    },
    {
      "cell_type": "code",
      "metadata": {
        "id": "PE1GhRuwarDg",
        "outputId": "d0e74c41-42a4-40fd-cab3-7fb4d58e99e8",
        "colab": {
          "base_uri": "https://localhost:8080/",
          "height": 68
        }
      },
      "source": [
        "#　学習用入力データ(learn_data)と結果よう正解データ(learn_label)を使って学習\n",
        "clf.fit(learn_data,learn_label)"
      ],
      "execution_count": 29,
      "outputs": [
        {
          "output_type": "execute_result",
          "data": {
            "text/plain": [
              "KNeighborsClassifier(algorithm='auto', leaf_size=30, metric='minkowski',\n",
              "                     metric_params=None, n_jobs=None, n_neighbors=1, p=2,\n",
              "                     weights='uniform')"
            ]
          },
          "metadata": {
            "tags": []
          },
          "execution_count": 29
        }
      ]
    },
    {
      "cell_type": "markdown",
      "metadata": {
        "id": "ZjPSvtW5bhhg"
      },
      "source": [
        "### テスト検証用データで推論をする"
      ]
    },
    {
      "cell_type": "code",
      "metadata": {
        "id": "C9pPbCukbjx7",
        "outputId": "0e419073-5812-4c0c-9d15-6df57f638406",
        "colab": {
          "base_uri": "https://localhost:8080/",
          "height": 51
        }
      },
      "source": [
        "#　テスト検証用データ(test_data)と答え合わせようの正解データ([0,1,1,0])\n",
        "test_label = clf.predict(test_data)\n",
        "\n",
        "#推論結果の評価\n",
        "print(test_data, \"の予測(推論)結果\", test_label)\n",
        "print(\"正解率 =\", accuracy_score([0,1,1,0], test_label))"
      ],
      "execution_count": 31,
      "outputs": [
        {
          "output_type": "stream",
          "text": [
            "[[0, 0], [1, 0], [0, 1], [1, 1]] の予測(推論)結果 [0 1 1 0]\n",
            "正解率 = 1.0\n"
          ],
          "name": "stdout"
        }
      ]
    },
    {
      "cell_type": "code",
      "metadata": {
        "id": "yGbBcKw7cvMJ"
      },
      "source": [
        ""
      ],
      "execution_count": null,
      "outputs": []
    }
  ]
}