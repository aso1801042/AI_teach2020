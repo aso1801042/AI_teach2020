{
  "nbformat": 4,
  "nbformat_minor": 0,
  "metadata": {
    "colab": {
      "name": "2020AI0203-Wine.ipynb",
      "provenance": [],
      "authorship_tag": "ABX9TyP1r2sZaGCFz82j6w/IGwwx",
      "include_colab_link": true
    },
    "kernelspec": {
      "name": "python3",
      "display_name": "Python 3"
    }
  },
  "cells": [
    {
      "cell_type": "markdown",
      "metadata": {
        "id": "view-in-github",
        "colab_type": "text"
      },
      "source": [
        "<a href=\"https://colab.research.google.com/github/aso1801042/AI_teach2020/blob/master/2020AI0203_Wine.ipynb\" target=\"_parent\"><img src=\"https://colab.research.google.com/assets/colab-badge.svg\" alt=\"Open In Colab\"/></a>"
      ]
    },
    {
      "cell_type": "markdown",
      "metadata": {
        "id": "2sjoGlZcgWAO"
      },
      "source": [
        "## ワインデータの分類をランダムフォレストで行う"
      ]
    },
    {
      "cell_type": "code",
      "metadata": {
        "id": "IeqAeGHmgg5U",
        "outputId": "ee02ed51-1971-4c20-9061-6c1166b10d53",
        "colab": {
          "base_uri": "https://localhost:8080/",
          "height": 134
        }
      },
      "source": [
        "# ライブラリの読み込み\n",
        "import pandas as pd\n",
        "#データを学習用とテスト用に分けるライブラリ\n",
        "from sk learn.model_selection import train_test_split\n",
        "#ランダムフォレストアルゴリズムの学習モデル\n",
        "from sk learn.ensemble import RandomforestClassifier\n",
        "#学習精度を評価するライブラリ\n",
        "from sk learn.metrics import accuracy_score\n",
        "#分類結果を出力するライブラリ\n",
        "from sk learn.metrics import classification_report"
      ],
      "execution_count": null,
      "outputs": [
        {
          "output_type": "error",
          "ename": "SyntaxError",
          "evalue": "ignored",
          "traceback": [
            "\u001b[0;36m  File \u001b[0;32m\"<ipython-input-1-a3fb2ac160b2>\"\u001b[0;36m, line \u001b[0;32m4\u001b[0m\n\u001b[0;31m    from sk learn.model_selection import train_test_split\u001b[0m\n\u001b[0m                ^\u001b[0m\n\u001b[0;31mSyntaxError\u001b[0m\u001b[0;31m:\u001b[0m invalid syntax\n"
          ]
        }
      ]
    },
    {
      "cell_type": "code",
      "metadata": {
        "id": "Nm8I-g6zhrRd",
        "outputId": "8cc7d105-c93f-4dc0-cb1f-c423a86fa2dd",
        "colab": {
          "base_uri": "https://localhost:8080/",
          "height": 34
        }
      },
      "source": [
        "# webから読み込むためのライブラリ\n",
        "from urllib.request import urlretrieve\n",
        "#uciのサイトから読み込むためのurl文字列\n",
        "url = \"https://archive.ics.uci.edu/ml/machine-learning-databases/wine-quality/winequality-white.csv\"\n",
        "savepath = \"winequality-white.csv\"\n",
        "#データをwebアクセスでコピーしたファイルパス・ファイル名に保存　\n",
        "urlretrieve(url, savepath)"
      ],
      "execution_count": null,
      "outputs": [
        {
          "output_type": "execute_result",
          "data": {
            "text/plain": [
              "('winequality-white.csv', <http.client.HTTPMessage at 0x7fe22ce54358>)"
            ]
          },
          "metadata": {
            "tags": []
          },
          "execution_count": 2
        }
      ]
    },
    {
      "cell_type": "markdown",
      "metadata": {
        "id": "eY-a6b0rjz-Q"
      },
      "source": [
        "## ワインデータファイルをプログラムに読み込んで表示(区切り文字をセミコロン「；」で指定）"
      ]
    },
    {
      "cell_type": "code",
      "metadata": {
        "id": "2VDcz8qRii5a",
        "outputId": "ccdfeee4-72be-43cd-c3f5-ae4d86049a1f",
        "colab": {
          "base_uri": "https://localhost:8080/",
          "height": 219
        }
      },
      "source": [
        "# 変数wineにデータを保持\n",
        "wine = pd.read_csv(savepath, sep=\";\", encoding=\"utf-8\")\n",
        "#読み込んだデータの最初の方を表示\n",
        "print(wine.head() )"
      ],
      "execution_count": null,
      "outputs": [
        {
          "output_type": "error",
          "ename": "NameError",
          "evalue": "ignored",
          "traceback": [
            "\u001b[0;31m---------------------------------------------------------------------------\u001b[0m",
            "\u001b[0;31mNameError\u001b[0m                                 Traceback (most recent call last)",
            "\u001b[0;32m<ipython-input-3-6bd408c39a2e>\u001b[0m in \u001b[0;36m<module>\u001b[0;34m()\u001b[0m\n\u001b[1;32m      1\u001b[0m \u001b[0;31m# 変数wineにデータを保持\u001b[0m\u001b[0;34m\u001b[0m\u001b[0;34m\u001b[0m\u001b[0;34m\u001b[0m\u001b[0m\n\u001b[0;32m----> 2\u001b[0;31m \u001b[0mwine\u001b[0m \u001b[0;34m=\u001b[0m \u001b[0mpd\u001b[0m\u001b[0;34m.\u001b[0m\u001b[0mread_csv\u001b[0m\u001b[0;34m(\u001b[0m\u001b[0msavepath\u001b[0m\u001b[0;34m,\u001b[0m \u001b[0msep\u001b[0m\u001b[0;34m=\u001b[0m\u001b[0;34m\";\"\u001b[0m\u001b[0;34m,\u001b[0m \u001b[0mencoding\u001b[0m\u001b[0;34m=\u001b[0m\u001b[0;34m\"utf-8\"\u001b[0m\u001b[0;34m)\u001b[0m\u001b[0;34m\u001b[0m\u001b[0;34m\u001b[0m\u001b[0m\n\u001b[0m\u001b[1;32m      3\u001b[0m \u001b[0;31m#読み込んだデータの最初の方を表示\u001b[0m\u001b[0;34m\u001b[0m\u001b[0;34m\u001b[0m\u001b[0;34m\u001b[0m\u001b[0m\n\u001b[1;32m      4\u001b[0m \u001b[0mprint\u001b[0m\u001b[0;34m(\u001b[0m\u001b[0mwine\u001b[0m\u001b[0;34m.\u001b[0m\u001b[0mhead\u001b[0m\u001b[0;34m(\u001b[0m\u001b[0;34m)\u001b[0m \u001b[0;34m)\u001b[0m\u001b[0;34m\u001b[0m\u001b[0;34m\u001b[0m\u001b[0m\n",
            "\u001b[0;31mNameError\u001b[0m: name 'pd' is not defined"
          ]
        }
      ]
    },
    {
      "cell_type": "markdown",
      "metadata": {
        "id": "PhY2rFhfk17W"
      },
      "source": [
        "## データを説明変数都目的変数(ラベル)に分離"
      ]
    },
    {
      "cell_type": "code",
      "metadata": {
        "id": "WroMawUKksuw"
      },
      "source": [
        "# 目的変数はワインの品質ランク\n",
        "y = wine[\"quality\"]\n",
        "#　説明変数は\"quality\"列を除外した残り全て\n",
        "x = wine.drop(\"quality\", axis=1)\n",
        "x.head()"
      ],
      "execution_count": null,
      "outputs": []
    },
    {
      "cell_type": "markdown",
      "metadata": {
        "id": "MbcRbyC4U3mF"
      },
      "source": [
        "## (追加)ワインデータの様子(品質ランクごとの数)をグラフ表示してみる"
      ]
    },
    {
      "cell_type": "code",
      "metadata": {
        "id": "ETc0iO8sVFp1"
      },
      "source": [
        "#　品質ランクごとのデータ数をカウントする\n",
        "count_data = wine.groupby('quality')[\"quality\"].count()\n",
        "print(count_data)\n",
        "#カウントをグラフ描画\n",
        "#グラフ用のプロットデータを作る\n",
        "count_data.plot()\n",
        "#描画を画像フェイルとしても保存\n",
        "plt.savefig(\"wine-count-plt.png\")\n",
        "#プロットを表示\n",
        "plt.show()"
      ],
      "execution_count": null,
      "outputs": []
    },
    {
      "cell_type": "markdown",
      "metadata": {
        "id": "fpVE38LOW2OT"
      },
      "source": [
        "## (追加)ラベルデータの10段階ランクを三段階のランクに値を修正して付け直す"
      ]
    },
    {
      "cell_type": "code",
      "metadata": {
        "id": "EfQCos8AXDz1"
      },
      "source": [
        "print(y)\n",
        "#目的変数(ラベル)の値を付け直す\n",
        "#新しいランクを仮に保存する変数\n",
        "newlist = []\n",
        "#ループしながら古いラベル値を新しい値として上書きしていく\n",
        "for v in list(v):\n",
        "if v <= 4:\n",
        "  new list += [0]\n",
        "  elif v <= 7:\n",
        "    newlist += [1]\n",
        "  else:\n",
        "    newlist += [2]\n",
        "#インデントが戻るのでループ終わり\n",
        "print(newlist)\n",
        "#ループが終わったら新しいリストで目的変数yを上書きする\n",
        "print(y)\n"
      ],
      "execution_count": null,
      "outputs": []
    },
    {
      "cell_type": "markdown",
      "metadata": {
        "id": "YBvEtUHgmIrc"
      },
      "source": [
        "## 学習用とテスト用に分割する"
      ]
    },
    {
      "cell_type": "code",
      "metadata": {
        "id": "xlQJecjblLff"
      },
      "source": [
        "# _trainは学習用, _testはテスト(検証)ようとする\n",
        "x_train, x_test, y_train, y_test = train_test_split(x,y, test_size=0.2)"
      ],
      "execution_count": null,
      "outputs": []
    },
    {
      "cell_type": "markdown",
      "metadata": {
        "id": "rkADZkrimw3D"
      },
      "source": [
        "## 学習する"
      ]
    },
    {
      "cell_type": "code",
      "metadata": {
        "id": "sBfY7oijm0W2"
      },
      "source": [
        "# ランダムフォレストで学習\n",
        "model =　RandomforestClassfier()\n",
        "model.fit(x_train, y_train)"
      ],
      "execution_count": null,
      "outputs": []
    },
    {
      "cell_type": "code",
      "metadata": {
        "id": "d1Zb4Lq7QnNz"
      },
      "source": [
        "#　テスト（predict)して結果を評価する\n",
        "y_pred = model.predict(x_test)\n",
        "# テスト結果(y_pred)と、本当の実データ(正解ラベルデータ)を比較して精度を評価\n",
        "print(classification_report(y_test, y_pred))\n",
        "#正解率\n",
        "print(\"正解率　　= \", accuracy_score(y_test, y_pred))"
      ],
      "execution_count": null,
      "outputs": []
    }
  ]
}